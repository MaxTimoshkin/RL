{
 "cells": [
  {
   "cell_type": "code",
   "execution_count": null,
   "id": "d98db424-5334-4c08-837d-4e0eadbcb816",
   "metadata": {},
   "outputs": [
    {
     "name": "stdout",
     "output_type": "stream",
     "text": [
      "Logging directory: BREAKTHROUGH_3/\n",
      "Overwriting existing model: BREAKTHROUGH_3//vpnet.pb\n",
      "Playing game: breakthrough\n",
      "Loading model from step 0\n",
      "[W TensorCompare.cpp:333] Warning: where received a uint8 condition tensor. This behavior is deprecated and will be removed in a future version of PyTorch. Use a boolean condition instead. (function operator())\n"
     ]
    }
   ],
   "source": [
    "# Обучение\n",
    "! ./open_spiel_repo/build/examples/alpha_zero_torch_example \\\n",
    "--game=\"breakthrough\" \\\n",
    "--path=\"BREAKTHROUGH_3/\" \\\n",
    "--train_batch_size=256 \\\n",
    "--replay_buffer_size=16384 \\\n",
    "--max_steps=1000 \\\n",
    "--checkpoint_freq=5 \\\n",
    "--max_simulations=20 \\\n",
    "--temperature_drop=20 \\\n",
    "--nn_width=64 \\\n",
    "--devices=cuda \\\n",
    "--nn_model=\"mlp\" \\\n",
    "--nn_depth=2"
   ]
  },
  {
   "cell_type": "code",
   "execution_count": 17,
   "id": "828bba6d-82ef-4060-8229-2f4cfeee7fe8",
   "metadata": {},
   "outputs": [
    {
     "name": "stdout",
     "output_type": "stream",
     "text": [
      "Game: breakthrough\n",
      "Initial state:\n",
      "8bbbbbbbb\n",
      "7bbbbbbbb\n",
      "6........\n",
      "5........\n",
      "4........\n",
      "3........\n",
      "2wwwwwwww\n",
      "1wwwwwwww\n",
      " abcdefgh\n",
      "\n",
      "Choose an action (empty to print legal actions): ^C\n"
     ]
    }
   ],
   "source": [
    "#Игра\n",
    "! ./open_spiel_repo/build/examples/alpha_zero_torch_game_example \\\n",
    "--game=breakthrough \\\n",
    "--player1=human \\\n",
    "--player2=az\\\n",
    "--az_path=BREAKTHROUGH_3 \\\n",
    "--az_checkpoint=-1"
   ]
  },
  {
   "cell_type": "code",
   "execution_count": 20,
   "id": "c6e7125a-7122-4f05-9138-193e823263d1",
   "metadata": {},
   "outputs": [
    {
     "name": "stdout",
     "output_type": "stream",
     "text": [
      "Logging directory: BREAKTHROUGH_3/\n",
      "Using existing model: BREAKTHROUGH_3//vpnet.pb\n",
      "Playing game: breakthrough\n",
      "Loading model from step -1\n",
      "[W TensorCompare.cpp:333] Warning: where received a uint8 condition tensor. This behavior is deprecated and will be removed in a future version of PyTorch. Use a boolean condition instead. (function operator())\n",
      "Joining all the threads.\n",
      "Exiting cleanly.\n"
     ]
    }
   ],
   "source": [
    "# Продолжение обучения\n",
    "! ./open_spiel_repo/build/examples/alpha_zero_torch_example BREAKTHROUGH_3/config.json"
   ]
  },
  {
   "cell_type": "code",
   "execution_count": 21,
   "id": "b092a114-e623-4914-bd35-91f454993f47",
   "metadata": {},
   "outputs": [
    {
     "name": "stdout",
     "output_type": "stream",
     "text": [
      "alpha_zero_torch_example: Warning: SetProgramUsageMessage() never called\n",
      "\n",
      "  Flags from repo/open_spiel/examples/alpha_zero_torch_example.cc:\n",
      "    --actors (How many actors to run.); default: 4;\n",
      "    --checkpoint_freq (Save a checkpoint every N steps.); default: 100;\n",
      "    --cutoff_probability (Cut off rollouts early when above the cutoff value\n",
      "      with this probability.); default: 0.8;\n",
      "    --cutoff_value (Cut off rollouts early when above this value.);\n",
      "      default: 0.95;\n",
      "    --devices (Comma separated list of devices. The first device listed is used\n",
      "      also as the learner. Allowable device names: cpu, cuda:0, cuda:1, cuda:2,\n",
      "      cuda:3, ... Where cuda:n implies the n'th GPU resource.);\n",
      "      default: \"/cpu:0\";\n",
      "    --eval_levels (Play evaluation games vs MCTS+Solver, with\n",
      "      max_simulations*10^(n/2) simulations for n in range(eval_levels). Default\n",
      "      of 7 means running mcts with up to 1000 times more simulations.);\n",
      "      default: 7;\n",
      "    --evaluation_window (Number of games to average results over.);\n",
      "      default: 100;\n",
      "    --evaluators (How many evaluators to run.); default: 2;\n",
      "    --explicit_learning (The way the first device handles learning, either\n",
      "      'false' (while learning, the first device also takes on inference\n",
      "      requests), or 'true' (while learning, the first device does not take on\n",
      "      inference requests) which can only be used when multiple devices are\n",
      "      available).); default: false;\n",
      "    --game (The name of the game to play.); default: \"tic_tac_toe\";\n",
      "    --graph_def (Where to get the graph. This could be from export_model.py, or\n",
      "      from a checkpoint. If this is empty it'll create one.); default: \"\";\n",
      "    --inference_batch_size (How many threads to wait for for inference.);\n",
      "      default: 1;\n",
      "    --inference_cache (Whether to cache the results from inference.);\n",
      "      default: 262144;\n",
      "    --inference_threads (How many threads to run inference.); default: 0;\n",
      "    --learning_rate (Learning rate.); default: 0.0001;\n",
      "    --max_simulations (How many simulations to run.); default: 300;\n",
      "    --max_steps (How many learn steps to run.); default: 0;\n",
      "    --nn_depth (Depth of the model, passed to export_model.py.); default: 10;\n",
      "    --nn_model (Model torso type, can be resnet or mlp.); default: \"resnet\";\n",
      "    --nn_width (Width of the model, passed to export_model.py.); default: 128;\n",
      "    --path (Where to output the logs.); default: \"/tmp/az\";\n",
      "      currently: \"tictactoe/\";\n",
      "    --policy_alpha (What dirichlet noise alpha to use.); default: 1;\n",
      "    --policy_epsilon (What dirichlet noise epsilon to use.); default: 0.25;\n",
      "    --replay_buffer_reuse (How many times to reuse each state in the replay\n",
      "      buffer.); default: 3;\n",
      "    --replay_buffer_size (How many states to store in the replay buffer.);\n",
      "      default: 65536;\n",
      "    --temperature (Temperature for final move selection for early moves in\n",
      "      training.); default: 1;\n",
      "    --temperature_drop (Drop the temperature to 0 after this many moves.);\n",
      "      default: 10;\n",
      "    --train_batch_size (How many states to learn from per batch.);\n",
      "      default: 1024;\n",
      "    --uct_c (UCT exploration constant.); default: 2;\n",
      "    --verbose (Show the MCTS stats of possible moves.); default: false;\n",
      "    --weight_decay (Weight decay.); default: 0.0001;\n",
      "\n",
      "Try --helpfull to get a list of all flags or --help=substring shows help for\n",
      "flags which include specified substring in either in the name, or description or\n",
      "path.\n"
     ]
    }
   ],
   "source": [
    "# Информация по аргументам обучения\n",
    "! ./open_spiel_repo/build/examples/alpha_zero_torch_example --game=tic_tac_toe --path=tictactoe/ --help"
   ]
  },
  {
   "cell_type": "code",
   "execution_count": null,
   "id": "6e3df337-4f21-487e-bf54-83ac4356e0b3",
   "metadata": {},
   "outputs": [],
   "source": []
  }
 ],
 "metadata": {
  "kernelspec": {
   "display_name": "Python 3 (ipykernel)",
   "language": "python",
   "name": "python3"
  },
  "language_info": {
   "codemirror_mode": {
    "name": "ipython",
    "version": 3
   },
   "file_extension": ".py",
   "mimetype": "text/x-python",
   "name": "python",
   "nbconvert_exporter": "python",
   "pygments_lexer": "ipython3",
   "version": "3.8.10"
  }
 },
 "nbformat": 4,
 "nbformat_minor": 5
}
