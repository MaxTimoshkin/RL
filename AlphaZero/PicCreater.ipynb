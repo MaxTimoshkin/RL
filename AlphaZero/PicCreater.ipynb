{
 "cells": [
  {
   "cell_type": "code",
   "execution_count": 164,
   "id": "a3ed1da8-1b8b-4aac-9176-ae866f194b1e",
   "metadata": {
    "tags": []
   },
   "outputs": [],
   "source": [
    "# Функция для получения изображения из board state\n",
    "import os.path\n",
    "from math import ceil\n",
    "from PIL import (\n",
    "    Image,\n",
    "    ImageFont,\n",
    "    ImageDraw,\n",
    ")\n",
    "\n",
    "PIL_GRAYSCALE = 'L'\n",
    "PIL_WIDTH_INDEX = 0\n",
    "PIL_HEIGHT_INDEX = 1\n",
    "COMMON_MONO_FONT_FILENAMES = [\n",
    "    'DejaVuSansMono.ttf',  # Linux\n",
    "    'Consolas Mono.ttf',   # MacOS\n",
    "    'Consola.ttf',         # Windows\n",
    "]\n",
    "\n",
    "def textfile_to_image(textfile_path):\n",
    "    \"\"\"Convert text file to a grayscale image.\n",
    "\n",
    "    arguments:\n",
    "    textfile_path - the content of this file will be converted to an image\n",
    "    font_path - path to a font file (for example impact.ttf)\n",
    "    \"\"\"\n",
    "    # parse the file into lines stripped of whitespace on the right side\n",
    "    with open(textfile_path) as f:\n",
    "        lines = tuple(line.rstrip() for line in f.readlines())\n",
    "\n",
    "    # choose a font (you can see more detail in the linked library on github)\n",
    "    font = None\n",
    "    large_font = 20  # get better resolution with larger size\n",
    "    for font_filename in COMMON_MONO_FONT_FILENAMES:\n",
    "        try:\n",
    "            font = ImageFont.truetype(font_filename, size=large_font)\n",
    "            #print(f'Using font \"{font_filename}\".')\n",
    "            break\n",
    "        except IOError:\n",
    "            print(f'Could not load font \"{font_filename}\".')\n",
    "    if font is None:\n",
    "        font = ImageFont.load_default()\n",
    "        #print('Using default font.')\n",
    "\n",
    "    # make a sufficiently sized background image based on the combination of font and lines\n",
    "    font_points_to_pixels = lambda pt: round(pt * 96.0 / 72)\n",
    "    margin_pixels = 20\n",
    "\n",
    "    # height of the background image\n",
    "    tallest_line = max(lines, key=lambda line: font.getsize(line)[PIL_HEIGHT_INDEX])\n",
    "    max_line_height = font_points_to_pixels(font.getsize(tallest_line)[PIL_HEIGHT_INDEX])\n",
    "    realistic_line_height = max_line_height * 0.8  # apparently it measures a lot of space above visible content\n",
    "    image_height = int(ceil(realistic_line_height * len(lines) + 2 * margin_pixels))\n",
    "\n",
    "    # width of the background image\n",
    "    widest_line = max(lines, key=lambda s: font.getsize(s)[PIL_WIDTH_INDEX])\n",
    "    max_line_width = font_points_to_pixels(font.getsize(widest_line)[PIL_WIDTH_INDEX])\n",
    "    image_width = int(ceil(max_line_width + (5 * margin_pixels)))\n",
    "\n",
    "    # draw the background\n",
    "    background_color = 255  # white\n",
    "    image = Image.new(PIL_GRAYSCALE, (image_width, image_height), color=background_color)\n",
    "    draw = ImageDraw.Draw(image)\n",
    "    \n",
    "    # draw each line of text\n",
    "    font_color = 0  # black\n",
    "    horizontal_position = margin_pixels\n",
    "    for i, line in enumerate(lines):\n",
    "        #print(line)\n",
    "        if i != 9:\n",
    "            line = line.replace('b', '♜')\n",
    "            line = line.replace('w', '♖')\n",
    "        if i != 0: \n",
    "            line = ' '.join(line)\n",
    "        if i != 0: \n",
    "            line = line[0:1] + ' ' + line[2:]\n",
    "        vertical_position = int(round(margin_pixels + (i * realistic_line_height)))\n",
    "        draw.text((horizontal_position, vertical_position), line, fill=font_color, font=font)\n",
    "\n",
    "    return image"
   ]
  },
  {
   "cell_type": "code",
   "execution_count": 165,
   "id": "2a4c705c-80a6-4b64-982e-ff268af3642d",
   "metadata": {},
   "outputs": [],
   "source": [
    "# Разбиение файла на несколько файлов\n",
    "splitLen = 11         # lines per file\n",
    "outputBase = 'TextFiles/2/state' # output.1.txt, output.2.txt, etc.\n",
    "\n",
    "# This is shorthand and not friendly with memory\n",
    "# on very large files (Sean Cavanagh), but it works.\n",
    "input = open('GamesTXT/2.txt', 'r').read().split('\\n')\n",
    "\n",
    "at = 1\n",
    "for lines in range(0, len(input), splitLen):\n",
    "    # First, get the list slice\n",
    "    outputData = input[lines:lines+splitLen]\n",
    "\n",
    "    # Now open the output file, join the new slice with newlines\n",
    "    # and write it out. Then close the file.\n",
    "    output = open(outputBase + str(at) + '.txt', 'w')\n",
    "    output.write('\\n'.join(outputData))\n",
    "    output.close()\n",
    "\n",
    "    # Increment the counter\n",
    "    at += 1"
   ]
  },
  {
   "cell_type": "code",
   "execution_count": 169,
   "id": "d3f88488-053c-4596-8a6e-36b300d38547",
   "metadata": {},
   "outputs": [
    {
     "name": "stdout",
     "output_type": "stream",
     "text": [
      "674\n"
     ]
    }
   ],
   "source": [
    "# Расчет числа файлов в директории\n",
    "path = 'TextFiles/2/'\n",
    "num_files = len([f for f in os.listdir(path)\n",
    "                if os.path.isfile(os.path.join(path, f))])\n",
    "print(num_files)"
   ]
  },
  {
   "cell_type": "code",
   "execution_count": 170,
   "id": "a8002ea9-5c3e-4a49-b44f-eed8c5629525",
   "metadata": {
    "tags": []
   },
   "outputs": [],
   "source": [
    "# Преобразование каждого состояния доски (текстового файла) в изображение\n",
    "for K in range(1, num_files + 1):\n",
    "    image = textfile_to_image('TextFiles/2/state' + str(K) +'.txt')\n",
    "    image.save('Pictures/2/' + str(K) + '.png')"
   ]
  },
  {
   "cell_type": "code",
   "execution_count": 171,
   "id": "048fe4b7-7932-45ed-acd5-7db024d32910",
   "metadata": {},
   "outputs": [
    {
     "data": {
      "text/plain": [
       "'/jupyter/2.zip'"
      ]
     },
     "execution_count": 171,
     "metadata": {},
     "output_type": "execute_result"
    }
   ],
   "source": [
    "# Архивация всех изображений\n",
    "import shutil\n",
    "shutil.make_archive(\"2\", \"zip\", \"Pictures/2\")"
   ]
  },
  {
   "cell_type": "code",
   "execution_count": null,
   "id": "cba180d5-e204-4212-bd9c-50b57be41f42",
   "metadata": {},
   "outputs": [],
   "source": []
  }
 ],
 "metadata": {
  "kernelspec": {
   "display_name": "Python 3 (ipykernel)",
   "language": "python",
   "name": "python3"
  },
  "language_info": {
   "codemirror_mode": {
    "name": "ipython",
    "version": 3
   },
   "file_extension": ".py",
   "mimetype": "text/x-python",
   "name": "python",
   "nbconvert_exporter": "python",
   "pygments_lexer": "ipython3",
   "version": "3.8.10"
  }
 },
 "nbformat": 4,
 "nbformat_minor": 5
}
